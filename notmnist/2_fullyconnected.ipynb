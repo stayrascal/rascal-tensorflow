{
 "cells": [
  {
   "cell_type": "markdown",
   "metadata": {
    "colab_type": "text",
    "deletable": true,
    "editable": true,
    "id": "kR-4eNdK6lYS"
   },
   "source": [
    "Deep Learning\n",
    "=============\n",
    "\n",
    "Assignment 2\n",
    "------------\n",
    "\n",
    "Previously in `1_notmnist.ipynb`, we created a pickle with formatted datasets for training, development and testing on the [notMNIST dataset](http://yaroslavvb.blogspot.com/2011/09/notmnist-dataset.html).\n",
    "\n",
    "The goal of this assignment is to progressively train deeper and more accurate models using TensorFlow."
   ]
  },
  {
   "cell_type": "code",
   "execution_count": 5,
   "metadata": {
    "cellView": "both",
    "colab": {
     "autoexec": {
      "startup": false,
      "wait_interval": 0
     }
    },
    "colab_type": "code",
    "collapsed": true,
    "deletable": true,
    "editable": true,
    "id": "JLpLa8Jt7Vu4"
   },
   "outputs": [],
   "source": [
    "# These are all the modules we'll be using later. Make sure you can import them\n",
    "# before proceeding further.\n",
    "from __future__ import print_function\n",
    "import numpy as np\n",
    "import tensorflow as tf\n",
    "from six.moves import cPickle as pickle\n",
    "from six.moves import range"
   ]
  },
  {
   "cell_type": "markdown",
   "metadata": {
    "colab_type": "text",
    "deletable": true,
    "editable": true,
    "id": "1HrCK6e17WzV"
   },
   "source": [
    "First reload the data we generated in `1_notmnist.ipynb`."
   ]
  },
  {
   "cell_type": "code",
   "execution_count": 6,
   "metadata": {
    "cellView": "both",
    "colab": {
     "autoexec": {
      "startup": false,
      "wait_interval": 0
     },
     "output_extras": [
      {
       "item_id": 1
      }
     ]
    },
    "colab_type": "code",
    "collapsed": false,
    "deletable": true,
    "editable": true,
    "executionInfo": {
     "elapsed": 19456,
     "status": "ok",
     "timestamp": 1449847956073,
     "user": {
      "color": "",
      "displayName": "",
      "isAnonymous": false,
      "isMe": true,
      "permissionId": "",
      "photoUrl": "",
      "sessionId": "0",
      "userId": ""
     },
     "user_tz": 480
    },
    "id": "y3-cj1bpmuxc",
    "outputId": "0ddb1607-1fc4-4ddb-de28-6c7ab7fb0c33"
   },
   "outputs": [
    {
     "name": "stdout",
     "output_type": "stream",
     "text": [
      "Training set (200000, 28, 28) (200000,)\n",
      "Validation set (10000, 28, 28) (10000,)\n",
      "Test set (10000, 28, 28) (10000,)\n"
     ]
    }
   ],
   "source": [
    "pickle_file = 'notMNIST.pickle'\n",
    "\n",
    "with open(pickle_file, 'rb') as f:\n",
    "    save = pickle.load(f)\n",
    "    train_dataset = save['train_dataset']\n",
    "    train_labels = save['train_labels']\n",
    "    valid_dataset = save['valid_dataset']\n",
    "    valid_labels = save['valid_labels']\n",
    "    test_dataset = save['test_dataset']\n",
    "    test_labels = save['test_labels']\n",
    "    del save  # hint to help gc free up memory\n",
    "    print('Training set', train_dataset.shape, train_labels.shape)\n",
    "    print('Validation set', valid_dataset.shape, valid_labels.shape)\n",
    "    print('Test set', test_dataset.shape, test_labels.shape)"
   ]
  },
  {
   "cell_type": "markdown",
   "metadata": {
    "colab_type": "text",
    "deletable": true,
    "editable": true,
    "id": "L7aHrm6nGDMB"
   },
   "source": [
    "Reformat into a shape that's more adapted to the models we're going to train:\n",
    "- data as a flat matrix,\n",
    "- labels as float 1-hot encodings."
   ]
  },
  {
   "cell_type": "code",
   "execution_count": 7,
   "metadata": {
    "cellView": "both",
    "colab": {
     "autoexec": {
      "startup": false,
      "wait_interval": 0
     },
     "output_extras": [
      {
       "item_id": 1
      }
     ]
    },
    "colab_type": "code",
    "collapsed": false,
    "deletable": true,
    "editable": true,
    "executionInfo": {
     "elapsed": 19723,
     "status": "ok",
     "timestamp": 1449847956364,
     "user": {
      "color": "",
      "displayName": "",
      "isAnonymous": false,
      "isMe": true,
      "permissionId": "",
      "photoUrl": "",
      "sessionId": "0",
      "userId": ""
     },
     "user_tz": 480
    },
    "id": "IRSyYiIIGIzS",
    "outputId": "2ba0fc75-1487-4ace-a562-cf81cae82793"
   },
   "outputs": [
    {
     "name": "stdout",
     "output_type": "stream",
     "text": [
      "Training set (200000, 784) (200000, 10)\n",
      "Validation set (10000, 784) (10000, 10)\n",
      "Test set (10000, 784) (10000, 10)\n",
      "[ 0.  0.  0.  0.  0.  0.  0.  0.  1.  0.]\n"
     ]
    }
   ],
   "source": [
    "image_size = 28\n",
    "num_labels = 10\n",
    "\n",
    "def reformat(dataset, labels):\n",
    "    dataset = dataset.reshape((-1, image_size * image_size)).astype(np.float32)\n",
    "    # Map 0 to [1.0, 0.0, 0.0 ...], 1 to [0.0, 1.0, 0.0 ...]\n",
    "    labels = (np.arange(num_labels) == labels[:,None]).astype(np.float32)\n",
    "    return dataset, labels\n",
    "\n",
    "train_dataset, train_labels = reformat(train_dataset, train_labels)\n",
    "valid_dataset, valid_labels = reformat(valid_dataset, valid_labels)\n",
    "test_dataset, test_labels = reformat(test_dataset, test_labels)\n",
    "print('Training set', train_dataset.shape, train_labels.shape)\n",
    "print('Validation set', valid_dataset.shape, valid_labels.shape)\n",
    "print('Test set', test_dataset.shape, test_labels.shape)\n",
    "print(train_labels[0])"
   ]
  },
  {
   "cell_type": "markdown",
   "metadata": {
    "colab_type": "text",
    "deletable": true,
    "editable": true,
    "id": "nCLVqyQ5vPPH"
   },
   "source": [
    "We're first going to train a multinomial logistic regression using simple gradient descent.\n",
    "\n",
    "TensorFlow works like this:\n",
    "* First you describe the computation that you want to see performed: what the inputs, the variables, and the operations look like. These get created as nodes over a computation graph. This description is all contained within the block below:\n",
    "\n",
    "      with graph.as_default():\n",
    "          ...\n",
    "\n",
    "* Then you can run the operations on this graph as many times as you want by calling `session.run()`, providing it outputs to fetch from the graph that get returned. This runtime operation is all contained in the block below:\n",
    "\n",
    "      with tf.Session(graph=graph) as session:\n",
    "          ...\n",
    "\n",
    "Let's load all the data into TensorFlow and build the computation graph corresponding to our training:"
   ]
  },
  {
   "cell_type": "code",
   "execution_count": 8,
   "metadata": {
    "cellView": "both",
    "colab": {
     "autoexec": {
      "startup": false,
      "wait_interval": 0
     }
    },
    "colab_type": "code",
    "collapsed": false,
    "deletable": true,
    "editable": true,
    "id": "Nfv39qvtvOl_"
   },
   "outputs": [],
   "source": [
    "# With gradient descent training, even this much data is prohibitive.\n",
    "# Subset the training data for faster turnaround.\n",
    "train_subset = 10000\n",
    "\n",
    "graph = tf.Graph()\n",
    "with graph.as_default():\n",
    "\n",
    "    # Input data.\n",
    "    # Load the training, validation and test data into constants that are\n",
    "    # attached to the graph.\n",
    "    # Tensorflow API: tf.constant()\n",
    "    tf_train_dataset = tf.constant(train_dataset[:train_subset, :])\n",
    "    tf_train_labels = tf.constant(train_labels[:train_subset])\n",
    "    \n",
    "    tf_valid_dataset = tf.constant(valid_dataset)\n",
    "    tf_test_dataset = tf.constant(test_dataset)\n",
    "\n",
    "    # Variables.\n",
    "    # These are the parameters that we are going to be training. The weight\n",
    "    # matrix will be initialized using random values following a (truncated)\n",
    "    # normal distribution. The biases get initialized to zero.\n",
    "    # X * W: 1x784 x 784x10 = 1x10\n",
    "    # Tensorflow API: tf.truncated_normal(), tf.Variable(), tf.zeros()\n",
    "    \n",
    "    weights = tf.Variable(tf.truncated_normal([image_size * image_size, num_labels]))\n",
    "    biases = tf.Variable(tf.zeros([num_labels]))\n",
    "\n",
    "    # Training computation.\n",
    "    # We multiply the inputs with the weight matrix, and add biases. We compute\n",
    "    # the softmax and cross-entropy (it's one operation in TensorFlow, because\n",
    "    # it's very common, and it can be optimized). We take the average of this\n",
    "    # cross-entropy across all training examples: that's our loss.\n",
    "    # Tensorflow API: tf.matmul(), tf.softmax_cross_entropy_with_logits(), tf.reduce_mean()\n",
    "    \n",
    "    logits = tf.matmul(tf_train_dataset, weights) + biases\n",
    "    loss = tf.reduce_mean(tf.nn.softmax_cross_entropy_with_logits(logits=logits, labels=tf_train_labels))\n",
    "\n",
    "    # Optimizer.\n",
    "    # We are going to find the minimum of this loss using gradient descent.\n",
    "    # Tensorflow API: tf.train.GradientDescentOptimizer()\n",
    "    \n",
    "    optimizer = tf.train.GradientDescentOptimizer(0.5).minimize(loss)\n",
    "\n",
    "    # Predictions for the training, validation, and test data.\n",
    "    # These are not part of training, but merely here so that we can report\n",
    "    # accuracy figures as we train.\n",
    "    train_prediction = tf.nn.softmax(logits)\n",
    "    valid_prediction = tf.nn.softmax(tf.matmul(tf_valid_dataset, weights) + biases)\n",
    "    test_prediction = tf.nn.softmax(tf.matmul(tf_test_dataset, weights) + biases)"
   ]
  },
  {
   "cell_type": "markdown",
   "metadata": {
    "colab_type": "text",
    "deletable": true,
    "editable": true,
    "id": "KQcL4uqISHjP"
   },
   "source": [
    "Let's run this computation and iterate:"
   ]
  },
  {
   "cell_type": "code",
   "execution_count": 13,
   "metadata": {
    "cellView": "both",
    "colab": {
     "autoexec": {
      "startup": false,
      "wait_interval": 0
     },
     "output_extras": [
      {
       "item_id": 9
      }
     ]
    },
    "colab_type": "code",
    "collapsed": false,
    "deletable": true,
    "editable": true,
    "executionInfo": {
     "elapsed": 57454,
     "status": "ok",
     "timestamp": 1449847994134,
     "user": {
      "color": "",
      "displayName": "",
      "isAnonymous": false,
      "isMe": true,
      "permissionId": "",
      "photoUrl": "",
      "sessionId": "0",
      "userId": ""
     },
     "user_tz": 480
    },
    "id": "z2cjdenH869W",
    "outputId": "4c037ba1-b526-4d8e-e632-91e2a0333267"
   },
   "outputs": [
    {
     "name": "stdout",
     "output_type": "stream",
     "text": [
      "WARNING:tensorflow:From <ipython-input-13-d588640ee5f0>:19: initialize_all_variables (from tensorflow.python.ops.variables) is deprecated and will be removed after 2017-03-02.\n",
      "Instructions for updating:\n",
      "Use `tf.global_variables_initializer` instead.\n",
      "Initialized\n",
      "Loss at step 0: 18.436390\n",
      "Training accuracy: 6.5%\n",
      "Validation accuracy: 8.9%\n",
      "Loss at step 100: 2.253838\n",
      "Training accuracy: 71.9%\n",
      "Validation accuracy: 70.3%\n",
      "Loss at step 200: 1.814669\n",
      "Training accuracy: 74.8%\n",
      "Validation accuracy: 72.8%\n",
      "Loss at step 300: 1.577829\n",
      "Training accuracy: 76.1%\n",
      "Validation accuracy: 73.7%\n",
      "Loss at step 400: 1.416602\n",
      "Training accuracy: 76.8%\n",
      "Validation accuracy: 74.4%\n",
      "Loss at step 500: 1.296365\n",
      "Training accuracy: 77.5%\n",
      "Validation accuracy: 74.6%\n",
      "Loss at step 600: 1.202043\n",
      "Training accuracy: 78.0%\n",
      "Validation accuracy: 74.7%\n",
      "Loss at step 700: 1.125529\n",
      "Training accuracy: 78.5%\n",
      "Validation accuracy: 74.9%\n",
      "Loss at step 800: 1.061988\n",
      "Training accuracy: 79.0%\n",
      "Validation accuracy: 75.0%\n",
      "Test accuracy: 82.8%\n"
     ]
    }
   ],
   "source": [
    "num_steps = 801\n",
    "\n",
    "def accuracy(predictions, labels):\n",
    "    # numpy.argmax(a, axis=None, out=None): Returns the indices of the maximum values along an axis.\n",
    "    \n",
    "    # array = [[1,3,5,7,9],[10,8,6,4,2]]\n",
    "    # lables = [[0,0,0,0,1],[1,0,0,0,0]]\n",
    "    \n",
    "    # np.argmax(array, 1) = [4, 0]       \n",
    "    # np.argmax(labels, 1) = [4, 0]\n",
    "    # np.argmax(array, 1) == np.argmax(lables, 1): [True, True]\n",
    "    # np.sum([True, True]) = 2; np.sum([True, False]) = 1\n",
    "    \n",
    "    return (100.0 * np.sum(np.argmax(predictions, 1) == np.argmax(labels, 1)) / predictions.shape[0])\n",
    "\n",
    "with tf.Session(graph=graph) as session:\n",
    "    # This is a one-time operation which ensures the parameters get initialized as\n",
    "    # we described in the graph: random weights for the matrix, zeros for the biases. \n",
    "    tf.initialize_all_variables().run()\n",
    "    print('Initialized')\n",
    "    for step in range(num_steps):\n",
    "        # Run the computations. We tell .run() that we want to run the optimizer,\n",
    "        # and get the loss value and the training predictions returned as numpy\n",
    "        # arrays.\n",
    "        _, l, predictions = session.run([optimizer, loss, train_prediction])\n",
    "        if (step % 100 == 0):\n",
    "            print('Loss at step %d: %f' % (step, l))\n",
    "            print('Training accuracy: %.1f%%' % accuracy(predictions, train_labels[:train_subset, :]))\n",
    "            # Calling .eval() on valid_prediction is basically like calling run(), but\n",
    "            # just to get that one numpy array. Note that it recomputes all its graph\n",
    "            # dependencies.\n",
    "            print('Validation accuracy: %.1f%%' % accuracy(valid_prediction.eval(), valid_labels))\n",
    "    print('Test accuracy: %.1f%%' % accuracy(test_prediction.eval(), test_labels))"
   ]
  },
  {
   "cell_type": "code",
   "execution_count": 4,
   "metadata": {
    "collapsed": false,
    "deletable": true,
    "editable": true
   },
   "outputs": [
    {
     "name": "stdout",
     "output_type": "stream",
     "text": [
      "Accuracy at step 0: 0.3577\n",
      "Adding run metadata for 99 and the accuracy is 0.773438\n",
      "Accuracy at step 500: 0.7683\n",
      "Adding run metadata for 599 and the accuracy is 0.75\n",
      "Accuracy at step 1000: 0.7868\n",
      "Adding run metadata for 1099 and the accuracy is 0.734375\n",
      "Accuracy at step 1500: 0.7895\n",
      "Adding run metadata for 1599 and the accuracy is 0.820312\n",
      "Accuracy at step 2000: 0.8029\n",
      "Adding run metadata for 2099 and the accuracy is 0.820312\n",
      "Accuracy at step 2500: 0.8036\n",
      "Adding run metadata for 2599 and the accuracy is 0.867188\n",
      "Accuracy at step 3000: 0.8143\n",
      "Total Test Accuracy at step 3001: 0.8859\n"
     ]
    }
   ],
   "source": [
    "def weight_variable(shape):\n",
    "    initial = tf.truncated_normal(shape, stddev=0.1)\n",
    "    return tf.Variable(initial)\n",
    "\n",
    "\n",
    "def bias_variable(shape):\n",
    "    initial = tf.constant(0.1, shape=shape)\n",
    "    return tf.Variable(initial)\n",
    "\n",
    "\n",
    "def variable_summaries(var):\n",
    "    with tf.name_scope('summaries'):\n",
    "        mean = tf.reduce_mean(var)\n",
    "        tf.summary.scalar('mean', mean)\n",
    "        with tf.name_scope('stddev'):\n",
    "            stddev = tf.sqrt(tf.reduce_mean(tf.square(var - mean)))\n",
    "        tf.summary.scalar('stddev', stddev)\n",
    "        tf.summary.scalar('max', tf.reduce_max(var))\n",
    "        tf.summary.scalar('min', tf.reduce_min(var))\n",
    "        tf.summary.histogram('histogram', var)\n",
    "\n",
    "def define_input(image_size=28, number_labels=10):\n",
    "    with tf.name_scope('input'):\n",
    "        x = tf.placeholder(tf.float32, [None, image_size * image_size], name='x-input')\n",
    "        y_ = tf.placeholder(tf.float32, [None, number_labels], name='y-input')\n",
    "\n",
    "    with tf.name_scope('input_reshape'):\n",
    "        image_shaped_input = tf.reshape(x, [-1, image_size, image_size, 1])\n",
    "        tf.summary.image('input', image_shaped_input, number_labels)\n",
    "    return x, y_\n",
    "\n",
    "def nn_layer(input_tensor, input_dim, output_dim, layer_name, act=tf.nn.relu):\n",
    "    with tf.name_scope(layer_name):\n",
    "        with tf.name_scope('weights'):\n",
    "            #--------------------------------------------------------------------\n",
    "            # create {input_dim * output_dim} weights matrix\n",
    "            \n",
    "            # weights = ????????\n",
    "            \n",
    "            #--------------------------------------------------------------------\n",
    "            variable_summaries(weights)\n",
    "\n",
    "        with tf.name_scope('biases'):\n",
    "            #--------------------------------------------------------------------\n",
    "            # create output_dim dimension biases vector\n",
    "            \n",
    "            # biases =  ????????\n",
    "            \n",
    "            #--------------------------------------------------------------------\n",
    "            variable_summaries(biases)\n",
    "\n",
    "        with tf.name_scope('Wx_plus_b'):\n",
    "            #--------------------------------------------------------------------\n",
    "            # linear computation: W * X + b\n",
    "            \n",
    "            # preactivate = ???????\n",
    "            \n",
    "            #--------------------------------------------------------------------\n",
    "            tf.summary.histogram('pre_activations', preactivate)\n",
    "\n",
    "        #--------------------------------------------------------------------\n",
    "        # activate output of linear computation via activation function: act\n",
    "\n",
    "        # activations = ???????\n",
    "\n",
    "        #--------------------------------------------------------------------\n",
    "        \n",
    "        tf.summary.histogram('activations', activations)\n",
    "    return activations\n",
    "\n",
    "\n",
    "\n",
    "# Input: N x 784\n",
    "# Hidden_nodes = 1024(N x 1024) => hidden_weight = 784 x 1024\n",
    "# output: N x 10 => output_weight = 1024 x 10\n",
    "def main(learning_rate=0.05, max_steps=3001, batch_size=128):\n",
    "    sess = tf.InteractiveSession()\n",
    "\n",
    "    \n",
    "    #---------------------------------------------------------------------------------\n",
    "    # define input, get train_data:x, train_label:y_: the image size is 28 and labels is 10\n",
    "\n",
    "    # x, y_ = ????\n",
    "\n",
    "    #---------------------------------------------------------------------------------\n",
    "    \n",
    "    \n",
    "    #--------------------------------------------------------------------------------\n",
    "    # define first layer called 'layer1' with 1024 neurons\n",
    "\n",
    "    # hidden1 = ???????\n",
    "\n",
    "    #--------------------------------------------------------------------------------\n",
    "    \n",
    "\n",
    "    #################################################################\n",
    "    # with tf.name_scope('dropout'):\n",
    "    #     keep_prob = tf.placeholder(tf.float32)\n",
    "    #     tf.summary.scalar('dropout_keep_probability', keep_prob)\n",
    "    #     droped = tf.nn.dropout(hidden1, keep_prob)\n",
    "    #################################################################\n",
    "\n",
    "    \n",
    "    #--------------------------------------------------------------------------------\n",
    "    # define second layer called 'layer2' with 10 neurons, \n",
    "    # and the activation is tf.identity\n",
    "\n",
    "    # y = ??????\n",
    "\n",
    "    #--------------------------------------------------------------------------------\n",
    "    \n",
    "\n",
    "    with tf.name_scope('cross_entropy'):\n",
    "        #--------------------------------------------------------------------------------\n",
    "        # define loss function: tf.nn.softmax_cross_entropy_with_logits(labels=?, logits=?)\n",
    "        # and calculate the sum: tf.reduce_mean(per_loss)\n",
    "\n",
    "        # cross_entropy = ??????\n",
    "\n",
    "        #--------------------------------------------------------------------------------\n",
    "    tf.summary.scalar('cross_entropy', cross_entropy)\n",
    "\n",
    "    with tf.name_scope('train'):\n",
    "        #--------------------------------------------------------------------------------\n",
    "        # optimizer cross_entropy\n",
    "\n",
    "        # train_step = ??????\n",
    "\n",
    "        #--------------------------------------------------------------------------------\n",
    "        \n",
    "\n",
    "    with tf.name_scope('accuracy'):\n",
    "        with tf.name_scope('correct_prediction'):\n",
    "            correct_prediction = tf.equal(tf.argmax(y, 1), tf.argmax(y_, 1))\n",
    "        with tf.name_scope('accuracy'):\n",
    "            accuracy = tf.reduce_mean(tf.cast(correct_prediction, tf.float32))\n",
    "    tf.summary.scalar('accuracy', accuracy)\n",
    "\n",
    "    merged = tf.summary.merge_all()\n",
    "    train_writer = tf.summary.FileWriter('./summary/train', sess.graph)\n",
    "\n",
    "    tf.global_variables_initializer().run()\n",
    "\n",
    "    for step in range(max_steps):\n",
    "        offset = (step * batch_size) % (train_labels.shape[0] - batch_size)\n",
    "        batch_data = train_dataset[offset:(offset + batch_size)]\n",
    "        batch_labels = train_labels[offset:(offset + batch_size)]\n",
    "        feed_dict = {x: batch_data, y_: batch_labels}\n",
    "\n",
    "        if step % 500 == 99:\n",
    "            run_options = tf.RunOptions(trace_level=tf.RunOptions.FULL_TRACE)\n",
    "            run_metadata = tf.RunMetadata()\n",
    "            summary, _, acc = sess.run([merged, train_step, accuracy],\n",
    "                                       feed_dict=feed_dict,\n",
    "                                       options=run_options,\n",
    "                                       run_metadata=run_metadata)\n",
    "            train_writer.add_run_metadata(run_metadata, 'step%03d' % step)\n",
    "            train_writer.add_summary(summary, step)\n",
    "            print('Adding run metadata for %s and the accuracy is %s' % (step, acc))\n",
    "        else:\n",
    "            #--------------------------------------------------------------------------------\n",
    "            # training merged, tain_step, accuracy \n",
    "\n",
    "            # summary, _, acc = ???\n",
    "\n",
    "            #--------------------------------------------------------------------------------\n",
    "            \n",
    "            \n",
    "            \n",
    "            train_writer.add_summary(summary, step)\n",
    "\n",
    "            \n",
    "        if (step % 500 == 0):\n",
    "            summary, acc = sess.run([merged, accuracy], feed_dict={x: valid_dataset, y_: valid_labels})\n",
    "\n",
    "            train_writer.add_summary(summary, step)\n",
    "            print('Accuracy at step %s: %s' % (step, acc))\n",
    "\n",
    "    summary, acc = sess.run([merged, accuracy], feed_dict={x: test_dataset, y_: test_labels})\n",
    "\n",
    "    train_writer.add_summary(summary, step + 1)\n",
    "    print('Total Test Accuracy at step %s: %s' % (step + 1, acc))\n",
    "\n",
    "    train_writer.close()\n",
    "\n",
    "main(0.02, 3001, 128)\n"
   ]
  },
  {
   "cell_type": "code",
   "execution_count": null,
   "metadata": {
    "collapsed": true,
    "deletable": true,
    "editable": true
   },
   "outputs": [],
   "source": []
  }
 ],
 "metadata": {
  "colab": {
   "default_view": {},
   "name": "2_fullyconnected.ipynb",
   "provenance": [],
   "version": "0.3.2",
   "views": {}
  },
  "kernelspec": {
   "display_name": "Python 3",
   "language": "python",
   "name": "python3"
  },
  "language_info": {
   "codemirror_mode": {
    "name": "ipython",
    "version": 3
   },
   "file_extension": ".py",
   "mimetype": "text/x-python",
   "name": "python",
   "nbconvert_exporter": "python",
   "pygments_lexer": "ipython3",
   "version": "3.5.2"
  }
 },
 "nbformat": 4,
 "nbformat_minor": 0
}
