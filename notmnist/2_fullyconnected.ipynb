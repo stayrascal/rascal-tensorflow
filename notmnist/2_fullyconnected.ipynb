{
 "cells": [
  {
   "cell_type": "markdown",
   "metadata": {
    "colab_type": "text",
    "deletable": true,
    "editable": true,
    "id": "kR-4eNdK6lYS"
   },
   "source": [
    "Deep Learning\n",
    "=============\n",
    "\n",
    "Assignment 2\n",
    "------------\n",
    "\n",
    "在之前的任务中，我们创建了一个经过处理后的数据集，在这个任务中，我们会基于这个数据集用Tensorflow逐渐训练一个越来越深越来越精确的模型。"
   ]
  },
  {
   "cell_type": "code",
   "execution_count": 14,
   "metadata": {
    "cellView": "both",
    "colab": {
     "autoexec": {
      "startup": false,
      "wait_interval": 0
     }
    },
    "colab_type": "code",
    "collapsed": true,
    "deletable": true,
    "editable": true,
    "id": "JLpLa8Jt7Vu4"
   },
   "outputs": [],
   "source": [
    "# 声明库依赖\n",
    "from __future__ import print_function\n",
    "import numpy as np\n",
    "import tensorflow as tf\n",
    "from six.moves import cPickle as pickle\n",
    "from six.moves import range"
   ]
  },
  {
   "cell_type": "markdown",
   "metadata": {
    "colab_type": "text",
    "deletable": true,
    "editable": true,
    "id": "1HrCK6e17WzV"
   },
   "source": [
    "首先导入我们之前处理过的数据集"
   ]
  },
  {
   "cell_type": "code",
   "execution_count": 6,
   "metadata": {
    "cellView": "both",
    "colab": {
     "autoexec": {
      "startup": false,
      "wait_interval": 0
     },
     "output_extras": [
      {
       "item_id": 1
      }
     ]
    },
    "colab_type": "code",
    "collapsed": false,
    "deletable": true,
    "editable": true,
    "executionInfo": {
     "elapsed": 19456,
     "status": "ok",
     "timestamp": 1449847956073,
     "user": {
      "color": "",
      "displayName": "",
      "isAnonymous": false,
      "isMe": true,
      "permissionId": "",
      "photoUrl": "",
      "sessionId": "0",
      "userId": ""
     },
     "user_tz": 480
    },
    "id": "y3-cj1bpmuxc",
    "outputId": "0ddb1607-1fc4-4ddb-de28-6c7ab7fb0c33"
   },
   "outputs": [
    {
     "name": "stdout",
     "output_type": "stream",
     "text": [
      "Training set (200000, 28, 28) (200000,)\n",
      "Validation set (10000, 28, 28) (10000,)\n",
      "Test set (10000, 28, 28) (10000,)\n"
     ]
    }
   ],
   "source": [
    "pickle_file = 'notMNIST.pickle'\n",
    "\n",
    "with open(pickle_file, 'rb') as f:\n",
    "    save = pickle.load(f)\n",
    "    train_dataset = save['train_dataset']\n",
    "    train_labels = save['train_labels']\n",
    "    valid_dataset = save['valid_dataset']\n",
    "    valid_labels = save['valid_labels']\n",
    "    test_dataset = save['test_dataset']\n",
    "    test_labels = save['test_labels']\n",
    "    del save  # hint to help gc free up memory\n",
    "    print('Training set', train_dataset.shape, train_labels.shape)\n",
    "    print('Validation set', valid_dataset.shape, valid_labels.shape)\n",
    "    print('Test set', test_dataset.shape, test_labels.shape)"
   ]
  },
  {
   "cell_type": "markdown",
   "metadata": {
    "colab_type": "text",
    "deletable": true,
    "editable": true,
    "id": "L7aHrm6nGDMB"
   },
   "source": [
    "其次格式化数据集：根据我们即将训练模型的输入改变数组的维度\n",
    "- data:(N, 28, 28) => (N, 784)\n",
    "- labels: (N,) => (N, 10)   1.0 -> [0.0,1.0,0.0,0.0,0.0,0.0,0.0,0.0,0.0,0.0]"
   ]
  },
  {
   "cell_type": "code",
   "execution_count": 7,
   "metadata": {
    "cellView": "both",
    "colab": {
     "autoexec": {
      "startup": false,
      "wait_interval": 0
     },
     "output_extras": [
      {
       "item_id": 1
      }
     ]
    },
    "colab_type": "code",
    "collapsed": false,
    "deletable": true,
    "editable": true,
    "executionInfo": {
     "elapsed": 19723,
     "status": "ok",
     "timestamp": 1449847956364,
     "user": {
      "color": "",
      "displayName": "",
      "isAnonymous": false,
      "isMe": true,
      "permissionId": "",
      "photoUrl": "",
      "sessionId": "0",
      "userId": ""
     },
     "user_tz": 480
    },
    "id": "IRSyYiIIGIzS",
    "outputId": "2ba0fc75-1487-4ace-a562-cf81cae82793"
   },
   "outputs": [
    {
     "name": "stdout",
     "output_type": "stream",
     "text": [
      "Training set (200000, 784) (200000, 10)\n",
      "Validation set (10000, 784) (10000, 10)\n",
      "Test set (10000, 784) (10000, 10)\n",
      "[ 0.  0.  0.  0.  0.  0.  0.  0.  1.  0.]\n"
     ]
    }
   ],
   "source": [
    "image_size = 28\n",
    "num_labels = 10\n",
    "\n",
    "def reformat(dataset, labels):\n",
    "    dataset = dataset.reshape((-1, image_size * image_size)).astype(np.float32)\n",
    "    # Map 0 to [1.0, 0.0, 0.0 ...], 1 to [0.0, 1.0, 0.0 ...]\n",
    "    labels = (np.arange(num_labels) == labels[:,None]).astype(np.float32)\n",
    "    return dataset, labels\n",
    "\n",
    "train_dataset, train_labels = reformat(train_dataset, train_labels)\n",
    "valid_dataset, valid_labels = reformat(valid_dataset, valid_labels)\n",
    "test_dataset, test_labels = reformat(test_dataset, test_labels)\n",
    "print('Training set', train_dataset.shape, train_labels.shape)\n",
    "print('Validation set', valid_dataset.shape, valid_labels.shape)\n",
    "print('Test set', test_dataset.shape, test_labels.shape)\n",
    "print(train_labels[0])"
   ]
  },
  {
   "cell_type": "markdown",
   "metadata": {
    "colab_type": "text",
    "deletable": true,
    "editable": true,
    "id": "nCLVqyQ5vPPH"
   },
   "source": [
    "我们首先基于简单的梯度下降来建立一个单层神经网络模型。\n",
    "\n",
    "TensorFlow 工作流程主要如下:\n",
    "* 首先，在下面的这段代码块内定义计算图，包括输入，权重参数以及对应的计算操作:\n",
    "\n",
    "      with graph.as_default():\n",
    "          ...\n",
    "\n",
    "* 其次在下面这段代码块内，通过调用`session.run()`多次运算在我们这个计算图中定义的计算操作:\n",
    "\n",
    "      with tf.Session(graph=graph) as session:\n",
    "          ...\n",
    "\n",
    "将前数据加载到TensorFlow中并构建与我们训练相对应的计算图:"
   ]
  },
  {
   "cell_type": "code",
   "execution_count": 23,
   "metadata": {
    "cellView": "both",
    "colab": {
     "autoexec": {
      "startup": false,
      "wait_interval": 0
     }
    },
    "colab_type": "code",
    "collapsed": false,
    "deletable": true,
    "editable": true,
    "id": "Nfv39qvtvOl_"
   },
   "outputs": [],
   "source": [
    "# 使用梯度下降训练模型\n",
    "# 为了加快计算时间，我们取训练集的前1000条数据\n",
    "train_subset = 10000\n",
    "\n",
    "graph = tf.Graph()\n",
    "with graph.as_default():\n",
    "\n",
    "    # 定义输入\n",
    "    # 加载训练集，验证集，测试集\n",
    "    # Tensorflow API: tf.constant()\n",
    "    tf_train_dataset = tf.constant(train_dataset[:train_subset])\n",
    "    tf_train_labels = tf.constant(train_labels[:train_subset])\n",
    "    \n",
    "    tf_valid_dataset = tf.constant(valid_dataset)\n",
    "    tf_test_dataset = tf.constant(test_dataset)\n",
    "\n",
    "    # 定义权重矩阵参数\n",
    "    # 这些就是我们即将要训练的参数，我们随机初始化一个服从高斯分布的权重矩阵(784x10)，并且将偏移量初始化为0\n",
    "    # X * W: 1x784 x 784x10 = 1x10\n",
    "    # Tensorflow API: tf.truncated_normal(), tf.Variable(), tf.zeros()\n",
    "    \n",
    "    weights = tf.Variable(tf.truncated_normal([784, 10]))\n",
    "    biases = tf.Variable(tf.zeros([10]))\n",
    "\n",
    "    # 训练计算\n",
    "    # 我们将权重矩阵和输入训练集进行线性运算将运算后的结果和真实值进行交叉商检验，得到损失函数\n",
    "    # Tensorflow API: tf.matmul(), tf.nn.softmax_cross_entropy_with_logits(), tf.reduce_mean()\n",
    "    \n",
    "    logits = tf.matmul(tf_train_dataset, weights) + biases\n",
    "    loss = tf.reduce_mean(tf.nn.softmax_cross_entropy_with_logits(logits=logits, labels=tf_train_labels))\n",
    "\n",
    "    # 通过梯度下降定义最小化损失函数值\n",
    "    # Tensorflow API: tf.train.GradientDescentOptimizer()\n",
    "    \n",
    "    optimizer = tf.train.GradientDescentOptimizer(0.5).minimize(loss)\n",
    "\n",
    "    # 预测训练集，验证集和测试集的输出\n",
    "    train_prediction = tf.nn.softmax(logits)\n",
    "    valid_prediction = tf.nn.softmax(tf.matmul(tf_valid_dataset, weights) + biases)\n",
    "    test_prediction = tf.nn.softmax(tf.matmul(tf_test_dataset, weights) + biases)"
   ]
  },
  {
   "cell_type": "markdown",
   "metadata": {
    "colab_type": "text",
    "deletable": true,
    "editable": true,
    "id": "KQcL4uqISHjP"
   },
   "source": [
    "运行计算图:"
   ]
  },
  {
   "cell_type": "code",
   "execution_count": 24,
   "metadata": {
    "cellView": "both",
    "colab": {
     "autoexec": {
      "startup": false,
      "wait_interval": 0
     },
     "output_extras": [
      {
       "item_id": 9
      }
     ]
    },
    "colab_type": "code",
    "collapsed": false,
    "deletable": true,
    "editable": true,
    "executionInfo": {
     "elapsed": 57454,
     "status": "ok",
     "timestamp": 1449847994134,
     "user": {
      "color": "",
      "displayName": "",
      "isAnonymous": false,
      "isMe": true,
      "permissionId": "",
      "photoUrl": "",
      "sessionId": "0",
      "userId": ""
     },
     "user_tz": 480
    },
    "id": "z2cjdenH869W",
    "outputId": "4c037ba1-b526-4d8e-e632-91e2a0333267"
   },
   "outputs": [
    {
     "name": "stdout",
     "output_type": "stream",
     "text": [
      "WARNING:tensorflow:From <ipython-input-24-72ab4624eb1d>:18: initialize_all_variables (from tensorflow.python.ops.variables) is deprecated and will be removed after 2017-03-02.\n",
      "Instructions for updating:\n",
      "Use `tf.global_variables_initializer` instead.\n",
      "Initialized\n",
      "Loss at step 0: 19.537174\n",
      "Training accuracy: 8.7%\n",
      "Validation accuracy: 10.4%\n",
      "Loss at step 100: 2.363143\n",
      "Training accuracy: 71.4%\n",
      "Validation accuracy: 70.4%\n",
      "Loss at step 200: 1.899808\n",
      "Training accuracy: 74.3%\n",
      "Validation accuracy: 72.8%\n",
      "Loss at step 300: 1.642689\n",
      "Training accuracy: 75.7%\n",
      "Validation accuracy: 73.8%\n",
      "Loss at step 400: 1.468133\n",
      "Training accuracy: 76.7%\n",
      "Validation accuracy: 74.2%\n",
      "Loss at step 500: 1.339121\n",
      "Training accuracy: 77.2%\n",
      "Validation accuracy: 74.4%\n",
      "Loss at step 600: 1.238581\n",
      "Training accuracy: 78.0%\n",
      "Validation accuracy: 74.8%\n",
      "Loss at step 700: 1.157117\n",
      "Training accuracy: 78.6%\n",
      "Validation accuracy: 74.9%\n",
      "Loss at step 800: 1.089345\n",
      "Training accuracy: 79.1%\n",
      "Validation accuracy: 74.9%\n",
      "Test accuracy: 0.0%\n"
     ]
    },
    {
     "name": "stderr",
     "output_type": "stream",
     "text": [
      "/usr/local/lib/python3.5/site-packages/ipykernel/__main__.py:14: DeprecationWarning: elementwise == comparison failed; this will raise an error in the future.\n"
     ]
    }
   ],
   "source": [
    "num_steps = 801\n",
    "\n",
    "def accuracy(predictions, labels):\n",
    "    # numpy.argmax(a, axis=None, out=None): 返回对应维度最大值的索引值.\n",
    "    \n",
    "    # array = [[1,3,5,7,9],[10,8,6,4,2]]\n",
    "    # lables = [[0,0,0,0,1],[1,0,0,0,0]]\n",
    "    \n",
    "    # np.argmax(array, 1) = [4, 0]       \n",
    "    # np.argmax(labels, 1) = [4, 0]\n",
    "    # np.argmax(array, 1) == np.argmax(lables, 1): [True, True]\n",
    "    # np.sum([True, True]) = 2; np.sum([True, False]) = 1\n",
    "    \n",
    "    return (100.0 * np.sum(np.argmax(predictions, 1) == np.argmax(labels, 1)) / predictions.shape[0])\n",
    "\n",
    "with tf.Session(graph=graph) as session:\n",
    "    # 真正初始化我们定义在图中的参数: 权重矩阵参数，偏移量\n",
    "    tf.initialize_all_variables().run()\n",
    "    print('Initialized')\n",
    "    for step in range(num_steps):\n",
    "        # 调用.run()运行我们想要计算的操作，比如最优化函数optimizer，训练集预测值，并得到损失值和预测集结果\n",
    "        _, l, predictions = session.run([optimizer, loss, train_prediction])\n",
    "        if (step % 100 == 0):\n",
    "            print('Loss at step %d: %f' % (step, l))\n",
    "            print('Training accuracy: %.1f%%' % accuracy(predictions, train_labels[:train_subset, :]))\n",
    "            print('Validation accuracy: %.1f%%' % accuracy(valid_prediction.eval(), valid_labels))\n",
    "    print('Test accuracy: %.1f%%' % accuracy(test_prediction.eval(), test_labels))"
   ]
  },
  {
   "cell_type": "code",
   "execution_count": 4,
   "metadata": {
    "collapsed": false,
    "deletable": true,
    "editable": true
   },
   "outputs": [
    {
     "name": "stdout",
     "output_type": "stream",
     "text": [
      "Accuracy at step 0: 0.3577\n",
      "Adding run metadata for 99 and the accuracy is 0.773438\n",
      "Accuracy at step 500: 0.7683\n",
      "Adding run metadata for 599 and the accuracy is 0.75\n",
      "Accuracy at step 1000: 0.7868\n",
      "Adding run metadata for 1099 and the accuracy is 0.734375\n",
      "Accuracy at step 1500: 0.7895\n",
      "Adding run metadata for 1599 and the accuracy is 0.820312\n",
      "Accuracy at step 2000: 0.8029\n",
      "Adding run metadata for 2099 and the accuracy is 0.820312\n",
      "Accuracy at step 2500: 0.8036\n",
      "Adding run metadata for 2599 and the accuracy is 0.867188\n",
      "Accuracy at step 3000: 0.8143\n",
      "Total Test Accuracy at step 3001: 0.8859\n"
     ]
    }
   ],
   "source": [
    "def weight_variable(shape):\n",
    "    '''\n",
    "    权重矩阵\n",
    "    @shape: 矩阵维度. eg. [10, 5] 表示定义一个10x5的矩阵\n",
    "    '''\n",
    "    initial = tf.truncated_normal(shape, stddev=0.1)\n",
    "    return tf.Variable(initial)\n",
    "\n",
    "\n",
    "def bias_variable(shape):\n",
    "    '''\n",
    "    偏移向量\n",
    "    @shape: 向量维度. eg. [10] 表示定义一个1x10的向量\n",
    "    '''\n",
    "    initial = tf.constant(0.1, shape=shape)\n",
    "    return tf.Variable(initial)\n",
    "\n",
    "\n",
    "def variable_summaries(var):\n",
    "    '''\n",
    "    统计训练过程中某些参数的值并记录变化过程，主要用于图表显示\n",
    "    '''\n",
    "    with tf.name_scope('summaries'):\n",
    "        mean = tf.reduce_mean(var)\n",
    "        tf.summary.scalar('mean', mean)\n",
    "        with tf.name_scope('stddev'):\n",
    "            stddev = tf.sqrt(tf.reduce_mean(tf.square(var - mean)))\n",
    "        tf.summary.scalar('stddev', stddev)\n",
    "        tf.summary.scalar('max', tf.reduce_max(var))\n",
    "        tf.summary.scalar('min', tf.reduce_min(var))\n",
    "        tf.summary.histogram('histogram', var)\n",
    "\n",
    "def define_input(image_size=28, number_labels=10):\n",
    "    with tf.name_scope('input'):\n",
    "        x = tf.placeholder(tf.float32, [None, image_size * image_size], name='x-input')\n",
    "        y_ = tf.placeholder(tf.float32, [None, number_labels], name='y-input')\n",
    "\n",
    "    with tf.name_scope('input_reshape'):\n",
    "        image_shaped_input = tf.reshape(x, [-1, image_size, image_size, 1])\n",
    "        tf.summary.image('input', image_shaped_input, number_labels)\n",
    "    return x, y_\n",
    "\n",
    "def nn_layer(input_tensor, input_dim, output_dim, layer_name, act=tf.nn.relu):\n",
    "    with tf.name_scope(layer_name):\n",
    "        with tf.name_scope('weights'):\n",
    "            #--------------------------------------------------------------------\n",
    "            # 创建一个input_dim * output_dim维度的权重矩阵\n",
    "            \n",
    "            weights = weight_variable([input_dim, output_dim])\n",
    "            \n",
    "            #--------------------------------------------------------------------\n",
    "            variable_summaries(weights)\n",
    "\n",
    "        with tf.name_scope('biases'):\n",
    "            #--------------------------------------------------------------------\n",
    "            # 创建一个 output_dim 维度的偏移向量\n",
    "            \n",
    "            biases = bias_variable([output_dim])\n",
    "            \n",
    "            #--------------------------------------------------------------------\n",
    "            variable_summaries(biases)\n",
    "\n",
    "        with tf.name_scope('Wx_plus_b'):\n",
    "            #--------------------------------------------------------------------\n",
    "            # 线性计算: W * X + b\n",
    "            \n",
    "            preactivate = tf.matmul(input_tensor, weights) + biases\n",
    "            \n",
    "            #--------------------------------------------------------------------\n",
    "            tf.summary.histogram('pre_activations', preactivate)\n",
    "\n",
    "        #--------------------------------------------------------------------\n",
    "        # 通过激活函数计算线性结果: act\n",
    "\n",
    "        activations = act(preactivate)\n",
    "\n",
    "        #--------------------------------------------------------------------\n",
    "        \n",
    "        tf.summary.histogram('activations', activations)\n",
    "    return activations\n",
    "\n",
    "\n",
    "\n",
    "# Input: N x 784\n",
    "# Hidden_nodes = 1024(N x 1024) => hidden_weight = 784 x 1024\n",
    "# output: N x 10 => output_weight = 1024 x 10\n",
    "def main(learning_rate=0.05, max_steps=3001, batch_size=128):\n",
    "    sess = tf.InteractiveSession()\n",
    "\n",
    "    \n",
    "    #---------------------------------------------------------------------------------\n",
    "    # 定义输入训练集:x,训练真实值:y (the image size is 28 and labels is 10)\n",
    "    #\n",
    "\n",
    "    x, y_ = define_input(28, 10)\n",
    "\n",
    "    #---------------------------------------------------------------------------------\n",
    "    \n",
    "    \n",
    "    #--------------------------------------------------------------------------------\n",
    "    # define first layer called 'layer1' with 1024 neurons\n",
    "    # 定义神经网络的第一层layer1，拥有1024个神经元\n",
    "\n",
    "    hidden1 = nn_layer(x, 784, 1024, 'layer1')\n",
    "\n",
    "    #--------------------------------------------------------------------------------\n",
    "    \n",
    "\n",
    "    #################################################################\n",
    "    # with tf.name_scope('dropout'):\n",
    "    #     keep_prob = tf.placeholder(tf.float32)\n",
    "    #     tf.summary.scalar('dropout_keep_probability', keep_prob)\n",
    "    #     droped = tf.nn.dropout(hidden1, keep_prob)\n",
    "    #################################################################\n",
    "\n",
    "    \n",
    "    #--------------------------------------------------------------------------------\n",
    "    # 定义神经网络第二层layer2，拥有10个神经网络，激活函数为tf.identity\n",
    "\n",
    "    y = nn_layer(x, 1024, 10, 'layer2', tf.identity)\n",
    "\n",
    "    #--------------------------------------------------------------------------------\n",
    "    \n",
    "\n",
    "    with tf.name_scope('cross_entropy'):\n",
    "        #--------------------------------------------------------------------------------\n",
    "        # 定义损失函数: tf.nn.softmax_cross_entropy_with_logits(labels=?, logits=?)\n",
    "        # 计算交叉商平均值: tf.reduce_mean(per_loss)\n",
    "\n",
    "        cross_entropy = tf.reduce_mean(tf.nn.softmax_cross_entropy_with_logits(labels=y_, logits=y))\n",
    "\n",
    "        #--------------------------------------------------------------------------------\n",
    "    tf.summary.scalar('cross_entropy', cross_entropy)\n",
    "\n",
    "    with tf.name_scope('train'):\n",
    "        #--------------------------------------------------------------------------------\n",
    "        # 最优化损失函数: tf.train.AdamOptimizer(learning_rate).minimize(loss)\n",
    "\n",
    "        train_step = tf.train.AdamOptimizer(learning_rate).minimize(cross_entropy)\n",
    "\n",
    "        #--------------------------------------------------------------------------------\n",
    "        \n",
    "\n",
    "    with tf.name_scope('accuracy'):\n",
    "        with tf.name_scope('correct_prediction'):\n",
    "            correct_prediction = tf.equal(tf.argmax(y, 1), tf.argmax(y_, 1))\n",
    "        with tf.name_scope('accuracy'):\n",
    "            accuracy = tf.reduce_mean(tf.cast(correct_prediction, tf.float32))\n",
    "    tf.summary.scalar('accuracy', accuracy)\n",
    "\n",
    "    merged = tf.summary.merge_all()\n",
    "    train_writer = tf.summary.FileWriter('./summary/train', sess.graph)\n",
    "\n",
    "    tf.global_variables_initializer().run()\n",
    "\n",
    "    for step in range(max_steps):\n",
    "        offset = (step * batch_size) % (train_labels.shape[0] - batch_size)\n",
    "        batch_data = train_dataset[offset:(offset + batch_size)]\n",
    "        batch_labels = train_labels[offset:(offset + batch_size)]\n",
    "        feed_dict = {x: batch_data, y_: batch_labels}\n",
    "\n",
    "        if step % 500 == 99:\n",
    "            run_options = tf.RunOptions(trace_level=tf.RunOptions.FULL_TRACE)\n",
    "            run_metadata = tf.RunMetadata()\n",
    "            summary, _, acc = sess.run([merged, train_step, accuracy],\n",
    "                                       feed_dict=feed_dict,\n",
    "                                       options=run_options,\n",
    "                                       run_metadata=run_metadata)\n",
    "            train_writer.add_run_metadata(run_metadata, 'step%03d' % step)\n",
    "            train_writer.add_summary(summary, step)\n",
    "            print('Adding run metadata for %s and the accuracy is %s' % (step, acc))\n",
    "        else:\n",
    "            #--------------------------------------------------------------------------------\n",
    "            # training merged, tain_step, accuracy \n",
    "\n",
    "            # summary, _, acc = ???\n",
    "\n",
    "            #--------------------------------------------------------------------------------\n",
    "            \n",
    "            \n",
    "            \n",
    "            train_writer.add_summary(summary, step)\n",
    "\n",
    "            \n",
    "        if (step % 500 == 0):\n",
    "            summary, acc = sess.run([merged, accuracy], feed_dict={x: valid_dataset, y_: valid_labels})\n",
    "\n",
    "            train_writer.add_summary(summary, step)\n",
    "            print('Accuracy at step %s: %s' % (step, acc))\n",
    "\n",
    "    summary, acc = sess.run([merged, accuracy], feed_dict={x: test_dataset, y_: test_labels})\n",
    "\n",
    "    train_writer.add_summary(summary, step + 1)\n",
    "    print('Total Test Accuracy at step %s: %s' % (step + 1, acc))\n",
    "\n",
    "    train_writer.close()\n",
    "\n",
    "main(0.02, 3001, 128)\n"
   ]
  },
  {
   "cell_type": "code",
   "execution_count": null,
   "metadata": {
    "collapsed": true,
    "deletable": true,
    "editable": true
   },
   "outputs": [],
   "source": []
  }
 ],
 "metadata": {
  "colab": {
   "default_view": {},
   "name": "2_fullyconnected.ipynb",
   "provenance": [],
   "version": "0.3.2",
   "views": {}
  },
  "kernelspec": {
   "display_name": "Python 3",
   "language": "python",
   "name": "python3"
  },
  "language_info": {
   "codemirror_mode": {
    "name": "ipython",
    "version": 3
   },
   "file_extension": ".py",
   "mimetype": "text/x-python",
   "name": "python",
   "nbconvert_exporter": "python",
   "pygments_lexer": "ipython3",
   "version": "3.5.2"
  }
 },
 "nbformat": 4,
 "nbformat_minor": 0
}
